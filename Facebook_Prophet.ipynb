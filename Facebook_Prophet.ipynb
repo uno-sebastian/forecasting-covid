{
 "cells": [
  {
   "cell_type": "code",
   "execution_count": null,
   "id": "6c95bcb4",
   "metadata": {},
   "outputs": [],
   "source": [
    "# !pip install fbprophet"
   ]
  },
  {
   "cell_type": "code",
   "execution_count": null,
   "id": "7fdd1119",
   "metadata": {},
   "outputs": [],
   "source": [
    "import pandas as pd\n",
    "import numpy as np\n",
    "import datetime as dt\n",
    "import dateutil.relativedelta as rd"
   ]
  },
  {
   "cell_type": "code",
   "execution_count": null,
   "id": "fe464051",
   "metadata": {
    "scrolled": false
   },
   "outputs": [],
   "source": [
    "# Display all the columns for the dataframes (not-truncated)\n",
    "pd.set_option(\"display.max_columns\", None)\n",
    "# Format floats better\n",
    "pd.options.display.float_format = '{:,.4f}'.format"
   ]
  },
  {
   "cell_type": "code",
   "execution_count": null,
   "id": "359b4525",
   "metadata": {},
   "outputs": [],
   "source": [
    "covid_df = pd.read_csv(\"Resources/covid_data.csv\")\n",
    "covid_df"
   ]
  },
  {
   "cell_type": "code",
   "execution_count": null,
   "id": "278bdd92",
   "metadata": {},
   "outputs": [],
   "source": [
    "covid_df = covid_df.groupby([\"date\"])[[\n",
    "    \"confirmed\"\n",
    "]].sum()\n",
    "covid_df.index = pd.to_datetime(covid_df.index)\n",
    "covid_df"
   ]
  },
  {
   "cell_type": "code",
   "execution_count": null,
   "id": "aecda4ce",
   "metadata": {},
   "outputs": [],
   "source": [
    "covid_df.plot()"
   ]
  },
  {
   "cell_type": "code",
   "execution_count": null,
   "id": "fcac9e03",
   "metadata": {},
   "outputs": [],
   "source": [
    "data_end_date = covid_df.index.max()\n",
    "# check last week of data\n",
    "covid_df[(data_end_date - rd.relativedelta(day=7)):].plot(figsize=(12,4))"
   ]
  },
  {
   "cell_type": "code",
   "execution_count": null,
   "id": "edf2c445",
   "metadata": {},
   "outputs": [],
   "source": [
    "# check last month of data\n",
    "covid_df[(data_end_date - rd.relativedelta(months=1)):].plot(figsize=(12,4))"
   ]
  },
  {
   "cell_type": "code",
   "execution_count": null,
   "id": "ba4ca700",
   "metadata": {},
   "outputs": [],
   "source": [
    "covid_df[:(data_end_date - rd.relativedelta(months=1))].plot(figsize=(12,4))"
   ]
  },
  {
   "cell_type": "code",
   "execution_count": null,
   "id": "8acbb195",
   "metadata": {},
   "outputs": [],
   "source": [
    "covid_df[:(data_end_date - rd.relativedelta(months=1))].diff().plot(figsize=(12,4))"
   ]
  },
  {
   "cell_type": "code",
   "execution_count": null,
   "id": "cbf74f19",
   "metadata": {},
   "outputs": [],
   "source": [
    "covid_df = covid_df[:(data_end_date - rd.relativedelta(months=1))]\n",
    "covid_df = covid_df.diff()\n",
    "covid_df = covid_df.dropna()\n",
    "covid_df = covid_df.reset_index()\n",
    "covid_df = covid_df.rename(columns={\"confirmed\":\"y\",\"date\":\"ds\"})\n",
    "covid_df"
   ]
  },
  {
   "cell_type": "code",
   "execution_count": null,
   "id": "620cb4ed",
   "metadata": {},
   "outputs": [],
   "source": [
    "from fbprophet import Prophet\n",
    "\n",
    "def create_fbprohpet_predictions(df,periods,freq=\"D\"):\n",
    "    model = Prophet(interval_width=0.95,daily_seasonality=True)\n",
    "    model_results = model.fit(df)\n",
    "    future = model.make_future_dataframe(periods=periods,freq=freq)\n",
    "    extrapolation = model.predict(future)\n",
    "    return model, extrapolation"
   ]
  },
  {
   "cell_type": "code",
   "execution_count": null,
   "id": "1e5d67db",
   "metadata": {},
   "outputs": [],
   "source": [
    "model, extrapolation = create_fbprohpet_predictions(df,periods=365)\n",
    "extrapolation"
   ]
  },
  {
   "cell_type": "code",
   "execution_count": null,
   "id": "685854e0",
   "metadata": {},
   "outputs": [],
   "source": [
    "fig = model.plot(extrapolation, figsize=(16,9))"
   ]
  },
  {
   "cell_type": "code",
   "execution_count": null,
   "id": "21e70ade",
   "metadata": {},
   "outputs": [],
   "source": [
    "fig = model.plot_components(extrapolation,figsize=(16,16))"
   ]
  },
  {
   "cell_type": "code",
   "execution_count": null,
   "id": "76864cdc",
   "metadata": {},
   "outputs": [],
   "source": [
    "from fbprophet.diagnostics import cross_validation\n",
    "df_cv = cross_validation(\n",
    "    model,\n",
    "    initial=\"365 days\",\n",
    "    period=\"180 days\",\n",
    "    horizon=\"365 days\"\n",
    ")\n",
    "df_cv"
   ]
  },
  {
   "cell_type": "code",
   "execution_count": null,
   "id": "2e1433f1",
   "metadata": {},
   "outputs": [],
   "source": [
    "from fbprophet.diagnostics import performance_metrics\n",
    "df_p = performance_metrics(df_cv)\n",
    "df_p"
   ]
  },
  {
   "cell_type": "code",
   "execution_count": null,
   "id": "a549ac2c",
   "metadata": {},
   "outputs": [],
   "source": [
    "from fbprophet.plot import plot_cross_validation_metric\n",
    "fig = plot_cross_validation_metric(df_cv, metric=\"rmse\")"
   ]
  }
 ],
 "metadata": {
  "kernelspec": {
   "display_name": "Python 3 (ipykernel)",
   "language": "python",
   "name": "python3"
  },
  "language_info": {
   "codemirror_mode": {
    "name": "ipython",
    "version": 3
   },
   "file_extension": ".py",
   "mimetype": "text/x-python",
   "name": "python",
   "nbconvert_exporter": "python",
   "pygments_lexer": "ipython3",
   "version": "3.9.9"
  }
 },
 "nbformat": 4,
 "nbformat_minor": 5
}
